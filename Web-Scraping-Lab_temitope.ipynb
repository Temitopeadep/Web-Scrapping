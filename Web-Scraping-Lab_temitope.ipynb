{
 "cells": [
  {
   "cell_type": "markdown",
   "metadata": {},
   "source": [
    "<p style=\"text-align:center\">\n",
    "    <a href=\"https://skills.network/?utm_medium=Exinfluencer&utm_source=Exinfluencer&utm_content=000026UJ&utm_term=10006555&utm_id=NA-SkillsNetwork-Channel-SkillsNetworkCoursesIBMDA0321ENSkillsNetwork928-2022-01-01\" target=\"_blank\">\n",
    "    <img src=\"https://cf-courses-data.s3.us.cloud-object-storage.appdomain.cloud/assets/logos/SN_web_lightmode.png\" width=\"200\" alt=\"Skills Network Logo\"  />\n",
    "    </a>\n",
    "</p>\n"
   ]
  },
  {
   "cell_type": "markdown",
   "metadata": {},
   "source": [
    "# **Hands-on Lab : Web Scraping**\n"
   ]
  },
  {
   "cell_type": "markdown",
   "metadata": {},
   "source": [
    "Estimated time needed: **30 to 45** minutes\n"
   ]
  },
  {
   "cell_type": "markdown",
   "metadata": {},
   "source": [
    "## Objectives\n"
   ]
  },
  {
   "cell_type": "markdown",
   "metadata": {},
   "source": [
    "In this lab you will perform the following:\n"
   ]
  },
  {
   "cell_type": "markdown",
   "metadata": {},
   "source": [
    "* Extract information from a given web site \n",
    "* Write the scraped data into a csv file.\n"
   ]
  },
  {
   "cell_type": "markdown",
   "metadata": {},
   "source": [
    "## Extract information from the given web site\n",
    "You will extract the data from the below web site: <br> \n"
   ]
  },
  {
   "cell_type": "code",
   "execution_count": 1,
   "metadata": {
    "tags": []
   },
   "outputs": [],
   "source": [
    "#this url contains the data you need to scrape\n",
    "url = \"https://cf-courses-data.s3.us.cloud-object-storage.appdomain.cloud/IBM-DA0321EN-SkillsNetwork/labs/datasets/Programming_Languages.html\""
   ]
  },
  {
   "cell_type": "markdown",
   "metadata": {},
   "source": [
    "The data you need to scrape is the **name of the programming language** and **average annual salary**.<br> It is a good idea to open the url in your web broswer and study the contents of the web page before you start to scrape.\n"
   ]
  },
  {
   "cell_type": "markdown",
   "metadata": {},
   "source": [
    "Import the required libraries\n"
   ]
  },
  {
   "cell_type": "code",
   "execution_count": 2,
   "metadata": {
    "tags": []
   },
   "outputs": [
    {
     "name": "stdout",
     "output_type": "stream",
     "text": [
      "Programming Language: Python, Average Annual Salary: $114,383\n",
      "Programming Language: Java, Average Annual Salary: $101,013\n",
      "Programming Language: R, Average Annual Salary: $92,037\n",
      "Programming Language: Javascript, Average Annual Salary: $110,981\n",
      "Programming Language: Swift, Average Annual Salary: $130,801\n",
      "Programming Language: C++, Average Annual Salary: $113,865\n",
      "Programming Language: C#, Average Annual Salary: $88,726\n",
      "Programming Language: PHP, Average Annual Salary: $84,727\n",
      "Programming Language: SQL, Average Annual Salary: $84,793\n",
      "Programming Language: Go, Average Annual Salary: $94,082\n"
     ]
    }
   ],
   "source": [
    "# Your code here\n",
    "import requests\n",
    "from bs4 import BeautifulSoup\n",
    "\n",
    "# URL to scrape\n",
    "url = \"https://cf-courses-data.s3.us.cloud-object-storage.appdomain.cloud/IBM-DA0321EN-SkillsNetwork/labs/datasets/Programming_Languages.html\"\n",
    "\n",
    "# Fetch HTML content from the URL\n",
    "response = requests.get(url)\n",
    "html_content = response.text\n",
    "\n",
    "# Create a BeautifulSoup object using the HTML content and 'html.parser' parser\n",
    "soup = BeautifulSoup(html_content, 'html.parser')\n",
    "\n",
    "# Find all the table rows (tr) in the table\n",
    "rows = soup.find_all('tr')\n",
    "\n",
    "# Initialize lists to store programming languages and their average annual salaries\n",
    "languages = []\n",
    "salaries = []\n",
    "\n",
    "# Iterate over each row in the table\n",
    "for row in rows[1:]:  # Skip the first row (header row)\n",
    "    cells = row.find_all('td')\n",
    "    language = cells[1].text.strip()\n",
    "    salary = cells[3].text.strip()\n",
    "    languages.append(language)\n",
    "    salaries.append(salary)\n",
    "\n",
    "# Print the extracted data\n",
    "for language, salary in zip(languages, salaries):\n",
    "    print(f\"Programming Language: {language}, Average Annual Salary: {salary}\")\n"
   ]
  },
  {
   "cell_type": "markdown",
   "metadata": {},
   "source": [
    "Download the webpage at the url\n"
   ]
  },
  {
   "cell_type": "code",
   "execution_count": 3,
   "metadata": {
    "tags": []
   },
   "outputs": [
    {
     "name": "stdout",
     "output_type": "stream",
     "text": [
      "Webpage downloaded successfully.\n"
     ]
    }
   ],
   "source": [
    "#your code goes here\n",
    "import requests\n",
    "\n",
    "# URL to download\n",
    "url = \"https://cf-courses-data.s3.us.cloud-object-storage.appdomain.cloud/IBM-DA0321EN-SkillsNetwork/labs/datasets/Programming_Languages.html\"\n",
    "\n",
    "# Send a GET request to the URL\n",
    "response = requests.get(url)\n",
    "\n",
    "# Check if the request was successful (status code 200)\n",
    "if response.status_code == 200:\n",
    "    with open(\"programming_languages.html\", \"wb\") as f:\n",
    "        f.write(response.content)\n",
    "    print(\"Webpage downloaded successfully.\")\n",
    "else:\n",
    "    print(\"Failed to download the webpage. Status code:\", response.status_code)\n"
   ]
  },
  {
   "cell_type": "markdown",
   "metadata": {},
   "source": [
    "Create a soup object\n"
   ]
  },
  {
   "cell_type": "code",
   "execution_count": 4,
   "metadata": {
    "tags": []
   },
   "outputs": [],
   "source": [
    "#your code goes here\n",
    "from bs4 import BeautifulSoup\n",
    "\n",
    "# Read the downloaded HTML file\n",
    "with open(\"programming_languages.html\", \"r\") as f:\n",
    "    html_content = f.read()\n",
    "\n",
    "soup = BeautifulSoup(html_content, 'html.parser')\n"
   ]
  },
  {
   "cell_type": "markdown",
   "metadata": {},
   "source": [
    "Scrape the `Language name` and `annual average salary`.\n"
   ]
  },
  {
   "cell_type": "code",
   "execution_count": 5,
   "metadata": {
    "tags": []
   },
   "outputs": [
    {
     "name": "stdout",
     "output_type": "stream",
     "text": [
      "Language: 1, Average Annual Salary: Guido van Rossum\n",
      "Language: 2, Average Annual Salary: James Gosling\n",
      "Language: 3, Average Annual Salary: Robert Gentleman, Ross Ihaka\n",
      "Language: 4, Average Annual Salary: Netscape\n",
      "Language: 5, Average Annual Salary: Apple\n",
      "Language: 6, Average Annual Salary: Bjarne Stroustrup\n",
      "Language: 7, Average Annual Salary: Microsoft\n",
      "Language: 8, Average Annual Salary: Rasmus Lerdorf\n",
      "Language: 9, Average Annual Salary: Donald D. Chamberlin, Raymond F. Boyce.\n",
      "Language: 10, Average Annual Salary: Robert Griesemer, Ken Thompson, Rob Pike.\n"
     ]
    }
   ],
   "source": [
    "#your code goes here\n",
    "# Find all the table rows (tr) in the table\n",
    "rows = soup.find_all('tr')\n",
    "\n",
    "# Initialize lists to store programming languages and their average annual salaries\n",
    "languages = []\n",
    "salaries = []\n",
    "\n",
    "# Iterate over each row in the table\n",
    "for row in rows[1:]:  # Skip the first row (header row)\n",
    "    cells = row.find_all('td')\n",
    "    language = cells[0].text.strip()\n",
    "    salary = cells[2].text.strip()\n",
    "    languages.append(language)\n",
    "    salaries.append(salary)\n",
    "\n",
    "# Print the extracted data\n",
    "for language, salary in zip(languages, salaries):\n",
    "    print(f\"Language: {language}, Average Annual Salary: {salary}\")\n"
   ]
  },
  {
   "cell_type": "markdown",
   "metadata": {},
   "source": [
    "Save the scrapped data into a file named *popular-languages.csv*\n"
   ]
  },
  {
   "cell_type": "code",
   "execution_count": 6,
   "metadata": {
    "tags": []
   },
   "outputs": [
    {
     "name": "stdout",
     "output_type": "stream",
     "text": [
      "Data has been saved to popular-languages.csv\n"
     ]
    }
   ],
   "source": [
    "# your code goes here\n",
    "import csv\n",
    "\n",
    "# Define the file path for the CSV file\n",
    "csv_file = \"popular-languages.csv\"\n",
    "\n",
    "# Write the scraped data to the CSV file\n",
    "with open(csv_file, \"w\", newline=\"\", encoding=\"utf-8\") as f:\n",
    "    writer = csv.writer(f)\n",
    "    # Write the header row\n",
    "    writer.writerow([\"Language\", \"Average Annual Salary\"])\n",
    "    # Write each row of scraped data\n",
    "    for language, salary in zip(languages, salaries):\n",
    "        writer.writerow([language, salary])\n",
    "\n",
    "print(f\"Data has been saved to {csv_file}\")\n"
   ]
  },
  {
   "cell_type": "markdown",
   "metadata": {},
   "source": [
    "## Authors\n"
   ]
  },
  {
   "cell_type": "markdown",
   "metadata": {},
   "source": [
    "Ramesh Sannareddy\n"
   ]
  },
  {
   "cell_type": "markdown",
   "metadata": {},
   "source": [
    "### Other Contributors\n"
   ]
  },
  {
   "cell_type": "markdown",
   "metadata": {},
   "source": [
    "Rav Ahuja\n"
   ]
  },
  {
   "cell_type": "markdown",
   "metadata": {},
   "source": [
    "## Change Log\n"
   ]
  },
  {
   "cell_type": "markdown",
   "metadata": {},
   "source": [
    "|  Date (YYYY-MM-DD) |  Version | Changed By  |  Change Description |\n",
    "|---|---|---|---|\n",
    "| 2020-10-17  | 0.1  | Ramesh Sannareddy  |  Created initial version of the lab |\n"
   ]
  },
  {
   "cell_type": "markdown",
   "metadata": {},
   "source": [
    " Copyright &copy; 2020 IBM Corporation. This notebook and its source code are released under the terms of the [MIT License](https://cognitiveclass.ai/mit-license/?utm_medium=Exinfluencer&utm_source=Exinfluencer&utm_content=000026UJ&utm_term=10006555&utm_id=NA-SkillsNetwork-Channel-SkillsNetworkCoursesIBMDA0321ENSkillsNetwork928-2022-01-01).\n"
   ]
  }
 ],
 "metadata": {
  "kernelspec": {
   "display_name": "Python",
   "language": "python",
   "name": "conda-env-python-py"
  },
  "language_info": {
   "codemirror_mode": {
    "name": "ipython",
    "version": 3
   },
   "file_extension": ".py",
   "mimetype": "text/x-python",
   "name": "python",
   "nbconvert_exporter": "python",
   "pygments_lexer": "ipython3",
   "version": "3.7.12"
  }
 },
 "nbformat": 4,
 "nbformat_minor": 4
}
